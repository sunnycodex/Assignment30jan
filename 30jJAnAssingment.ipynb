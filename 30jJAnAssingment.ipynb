{
 "cells": [
  {
   "cell_type": "code",
   "execution_count": 24,
   "id": "6b009045-f156-4db9-a9fd-f82ebb1be429",
   "metadata": {},
   "outputs": [
    {
     "name": "stdin",
     "output_type": "stream",
     "text": [
      "Enter your marks 20\n"
     ]
    },
    {
     "name": "stdout",
     "output_type": "stream",
     "text": [
      "D\n"
     ]
    }
   ],
   "source": [
    "# Q>1 \n",
    "marks = int (input(\"Enter your marks\"))\n",
    "if marks > 90:\n",
    "    print('A')\n",
    "elif marks > 80 and marks< 90:\n",
    "    print('B')\n",
    "elif marks >=60 and marks <80:\n",
    "    print('C')\n",
    "else:\n",
    "          print('D')"
   ]
  },
  {
   "cell_type": "code",
   "execution_count": 36,
   "id": "1955aa41-62e3-4e7d-9696-3cba92ce5ef0",
   "metadata": {},
   "outputs": [
    {
     "name": "stdin",
     "output_type": "stream",
     "text": [
      "Enter bike price 20000\n"
     ]
    },
    {
     "name": "stdout",
     "output_type": "stream",
     "text": [
      "5% TAX\n"
     ]
    }
   ],
   "source": [
    "# Q.2\n",
    "price = int(input('Enter bike price'))\n",
    "if price > 100000:\n",
    "        print('15% tax')\n",
    "elif price > 50000 and price<=100000:\n",
    "        print(\" 10% TAX\")\n",
    "else :\n",
    "    print(\"5% TAX\")"
   ]
  },
  {
   "cell_type": "code",
   "execution_count": 7,
   "id": "ea3072cf-74e2-4690-bed1-b9ed540f9beb",
   "metadata": {},
   "outputs": [
    {
     "name": "stdin",
     "output_type": "stream",
     "text": [
      "Enter Your City name Nagaon\n"
     ]
    },
    {
     "name": "stdout",
     "output_type": "stream",
     "text": [
      " I don't know\n"
     ]
    }
   ],
   "source": [
    " #  Q.3 \n",
    "city = input(\"Enter Your City name\")\n",
    "if city == \"Delhi\" :\n",
    "            print(\"RED FORT\")\n",
    "elif city == \"Agra\" :\n",
    "    print(\"Taj Mahal\")\n",
    "elif city == \"Jaipur\"  :\n",
    "    print(\"Jal Mahal\")\n",
    "else:\n",
    "\n",
    "    print(\" I don't know\")\n",
    "    "
   ]
  },
  {
   "cell_type": "code",
   "execution_count": null,
   "id": "283cce70-eb3b-4159-a11a-3a69fd9ae1aa",
   "metadata": {},
   "outputs": [],
   "source": [
    "num = int(input(\"Enter a number\"))\n",
    "count = 0\n",
    "while num<10:\n",
    "    num= num/3\n",
    "    count=+1\n",
    "    \n",
    "    \n",
    "print(count)\n"
   ]
  }
 ],
 "metadata": {
  "kernelspec": {
   "display_name": "Python 3 (ipykernel)",
   "language": "python",
   "name": "python3"
  },
  "language_info": {
   "codemirror_mode": {
    "name": "ipython",
    "version": 3
   },
   "file_extension": ".py",
   "mimetype": "text/x-python",
   "name": "python",
   "nbconvert_exporter": "python",
   "pygments_lexer": "ipython3",
   "version": "3.10.8"
  }
 },
 "nbformat": 4,
 "nbformat_minor": 5
}
